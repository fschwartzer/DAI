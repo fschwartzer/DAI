{
 "cells": [
  {
   "cell_type": "code",
   "execution_count": 59,
   "metadata": {},
   "outputs": [
    {
     "name": "stdout",
     "output_type": "stream",
     "text": [
      "Running locally at: http://127.0.0.1:7872/\n",
      "To create a public link, set `share=True` in `launch()`.\n",
      "Interface loading below...\n"
     ]
    },
    {
     "data": {
      "text/html": [
       "\n",
       "        <iframe\n",
       "            width=\"900\"\n",
       "            height=\"500\"\n",
       "            src=\"http://127.0.0.1:7872/\"\n",
       "            frameborder=\"0\"\n",
       "            allowfullscreen\n",
       "        ></iframe>\n",
       "        "
      ],
      "text/plain": [
       "<IPython.lib.display.IFrame at 0x15e504a94c0>"
      ]
     },
     "metadata": {},
     "output_type": "display_data"
    },
    {
     "data": {
      "text/plain": [
       "(<Flask 'gradio.networking'>, 'http://127.0.0.1:7872/', None)"
      ]
     },
     "execution_count": 59,
     "metadata": {},
     "output_type": "execute_result"
    }
   ],
   "source": [
    "#Importação das bibliotecas\n",
    "import gradio as gr\n",
    "import pandas as pd\n",
    "import numpy as np\n",
    "import xgboost as xgb\n",
    "from sklearn.preprocessing import MinMaxScaler\n",
    "from sklearn.model_selection import train_test_split\n",
    "\n",
    "#Carregar dados\n",
    "X = pd.read_excel('new_X.xlsx')\n",
    "y = pd.read_csv('y.csv', sep=';', header=0)\n",
    "y = np.array(y['Vunit'].values).reshape(-1, 1)\n",
    "\n",
    "#Normalizar dados\n",
    "scaler_X = MinMaxScaler()\n",
    "scaler_y = MinMaxScaler()\n",
    "input_scaler = scaler_new_X.fit(X)\n",
    "output_scaler = scaler_y.fit(y)\n",
    "X_norm = new_X_scaler.transform(X)\n",
    "y_norm = output_scaler.transform(y)\n",
    "new_X = X_norm\n",
    "new_y = np.ravel(y_norm)\n",
    "\n",
    "#Dividir dados em base de treino e de teste\n",
    "train_dataset, test_dataset, train_labels, test_labels = train_test_split(new_X, new_y, test_size=0.2, random_state=42)\n",
    "\n",
    "#Transformar dados em DMatrix\n",
    "dtrain = xgb.DMatrix(train_dataset, train_labels)\n",
    "dtest = xgb.DMatrix(test_dataset, test_labels)\n",
    "\n",
    "#Carregar o modelo\n",
    "loaded_model = xgb.Booster()\n",
    "loaded_model.load_model(\"boxes_2021_FINAL.model\")\n",
    "\n",
    "#Fazer as inferências\n",
    "def predict_box(Atotal, Residencial, Coberta, Idade, DF, B, C, D, E, X, Y):\n",
    "    df = pd.DataFrame.from_dict({'Atotal': np.log([Atotal]),\n",
    "                                 'Residencial': [Residencial],\n",
    "                                 'Coberta': [Coberta],\n",
    "                                 'Idade': [Idade],\n",
    "                                 'DF': [DF],\n",
    "                                 'B': [B],\n",
    "                                 'C': [C],\n",
    "                                 'D': [D],\n",
    "                                 'E': [E],\n",
    "                                 'X': [X], \n",
    "                                 'Y': [Y]})\n",
    "    df = input_scaler.transform(df)\n",
    "    df = xgb.DMatrix(df)\n",
    "    pred = loaded_model.predict(df)\n",
    "    pred = output_scaler.inverse_transform(np.array(pred).reshape(-1, 1))\n",
    "    pred = np.exp(pred).tolist()     \n",
    "    return f\"\"\"Valor do m²: R${round(pred[0][0])} | Valor Total do box: R${round(pred[0][0]*Atotal)}\"\"\"\n",
    "\n",
    "#Definir os campos de inserção de dados\n",
    "Atotal = gr.inputs.Number(default = 20., label=\"Área Total\")\n",
    "Residencial = gr.inputs.Number(default = 1, label=\"Residencial\")\n",
    "Coberta = gr.inputs.Number(default = 1, label=\"Coberta\")\n",
    "Idade = gr.inputs.Number(default = 5, label=\"Idade\")\n",
    "DF = gr.inputs.Number(default = 1, label=\"Divisão Fiscal\")\n",
    "B = gr.inputs.Number(default = 0, label=\"Padrão Construtivo B\")\n",
    "C = gr.inputs.Number(default = 1, label=\"Padrão Construtivo C\")\n",
    "D = gr.inputs.Number(default = 0, label=\"Padrão Construtivo D\")\n",
    "E = gr.inputs.Number(default = 0, label=\"Padrão Construtivo E\")\n",
    "X = gr.inputs.Number(default =274800., label=\"Latitude\")\n",
    "Y = gr.inputs.Number(default =1.662188e+06, label=\"Latitude\")\n",
    "\n",
    "#Criar interface do aplicativo\n",
    "gr.Interface(predict_box, [Atotal, Residencial, Coberta, Idade, DF, B, C, D, E, X, Y], \"label\", live=False).launch(share=False)"
   ]
  },
  {
   "cell_type": "code",
   "execution_count": null,
   "metadata": {},
   "outputs": [],
   "source": []
  }
 ],
 "metadata": {
  "kernelspec": {
   "display_name": "Python 3",
   "language": "python",
   "name": "python3"
  },
  "language_info": {
   "codemirror_mode": {
    "name": "ipython",
    "version": 3
   },
   "file_extension": ".py",
   "mimetype": "text/x-python",
   "name": "python",
   "nbconvert_exporter": "python",
   "pygments_lexer": "ipython3",
   "version": "3.8.5"
  }
 },
 "nbformat": 4,
 "nbformat_minor": 4
}
